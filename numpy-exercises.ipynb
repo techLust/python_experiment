{
 "cells": [
  {
   "attachments": {},
   "cell_type": "markdown",
   "metadata": {},
   "source": [
    "# NumPy Practice\n",
    "\n",
    "This notebook offers a set of exercises for different tasks with NumPy.\n",
    "\n",
    "It should be noted there may be more than one different way to answer a question or complete an exercise.\n",
    "\n",
    "Exercises are based off (and directly taken from) the quick introduction to NumPy notebook.\n",
    "\n",
    "Different tasks will be detailed by comments or text.\n",
    "\n",
    "For further reference and resources, it's advised to check out the [NumPy documentation](https://numpy.org/devdocs/user/index.html).\n",
    "\n",
    "And if you get stuck, try searching for a question in the following format: \"how to do XYZ with numpy\", where XYZ is the function you want to leverage from NumPy."
   ]
  },
  {
   "cell_type": "code",
   "execution_count": 4,
   "metadata": {},
   "outputs": [],
   "source": [
    "# Import NumPy as its abbreviation 'np'\n",
    "import numpy as np"
   ]
  },
  {
   "cell_type": "code",
   "execution_count": 5,
   "metadata": {},
   "outputs": [
    {
     "name": "stdout",
     "output_type": "stream",
     "text": [
      "1-dimensional array \n",
      " [1 2 3 4 5] \n",
      "\n",
      "2-dimensional array \n",
      " [[ 1  2  3  4  5]\n",
      " [ 6  7  8  9 10]] \n",
      "\n",
      "3-dimensional array \n",
      " [[[1 2 3]\n",
      "  [4 5 6]\n",
      "  [7 8 9]]] \n",
      "\n"
     ]
    }
   ],
   "source": [
    "# Create a 1-dimensional NumPy array using np.array()\n",
    "num_arr = np.array([1, 2, 3, 4, 5])\n",
    "print(\"1-dimensional array\",\"\\n\", num_arr, \"\\n\")\n",
    "\n",
    "# Create a 2-dimensional NumPy array using np.array()\n",
    "num_arr_2d = np.array([[1, 2, 3, 4, 5], [6, 7, 8, 9, 10]])\n",
    "print(\"2-dimensional array\",\"\\n\", num_arr_2d, \"\\n\")\n",
    "\n",
    "# Create a 3-dimensional Numpy array using np.array()\n",
    "num_arr_3d = np.array([[[1, 2, 3], [4, 5, 6], [7, 8, 9]]])\n",
    "print(\"3-dimensional array\", \"\\n\", num_arr_3d, \"\\n\")\n"
   ]
  },
  {
   "attachments": {},
   "cell_type": "markdown",
   "metadata": {},
   "source": [
    "Now we've you've created 3 different arrays, let's find details about them.\n",
    "\n",
    "Find the shape, number of dimensions, data type, size and type of each array."
   ]
  },
  {
   "cell_type": "code",
   "execution_count": 6,
   "metadata": {},
   "outputs": [
    {
     "name": "stdout",
     "output_type": "stream",
     "text": [
      "________________________________ Array shape _______________________________ \n",
      "\n",
      "1-d array shape \n",
      " (5,) \n",
      "\n",
      "2-d array shape \n",
      " (2, 5) \n",
      "\n",
      "2-d array shape \n",
      " (1, 3, 3) \n",
      "\n",
      "_____________________________ Number of dimension ________________________ \n",
      "\n",
      "1-d array dimensions \n",
      " 1 \n",
      "\n",
      "2-d array dimensions \n",
      " 2 \n",
      "\n",
      "3-d array dimensions \n",
      " 3 \n",
      "\n",
      "_____________________________ Data types __________________________________ \n",
      "\n",
      "1-d array data type \n",
      " int64 \n",
      "\n",
      "2-d array data type \n",
      " int64 \n",
      "\n",
      "3-d array data type \n",
      " int64 \n",
      "\n",
      "_____________________________ Size __________________________________ \n",
      "\n",
      "1-d array size \n",
      " 5 \n",
      "\n",
      "2-d array size \n",
      " 10 \n",
      "\n",
      "3-d array size \n",
      " 9 \n",
      "\n",
      "_____________________________ Type __________________________________ \n",
      "\n",
      "1-d array type \n",
      " <class 'numpy.ndarray'> \n",
      "\n",
      "2-d array type \n",
      " <class 'numpy.ndarray'> \n",
      "\n",
      "3-d array type \n",
      " <class 'numpy.ndarray'> \n",
      "\n"
     ]
    }
   ],
   "source": [
    "# Attributes of 1-dimensional array (shape, number of dimensions, data type, size and type)\n",
    "print(\"________________________________ Array shape _______________________________\", '\\n')\n",
    "print(\"1-d array shape\", \"\\n\", num_arr.shape, \"\\n\")\n",
    "print(\"2-d array shape\", \"\\n\", num_arr_2d.shape, \"\\n\")\n",
    "print(\"2-d array shape\", \"\\n\", num_arr_3d.shape, \"\\n\")\n",
    "\n",
    "print(\"_____________________________ Number of dimension ________________________\", '\\n')\n",
    "print(\"1-d array dimensions\", \"\\n\", num_arr.ndim, \"\\n\")\n",
    "print(\"2-d array dimensions\", \"\\n\", num_arr_2d.ndim, \"\\n\")\n",
    "print(\"3-d array dimensions\", \"\\n\", num_arr_3d.ndim, \"\\n\")\n",
    "\n",
    "print(\"_____________________________ Data types __________________________________\", '\\n')\n",
    "print(\"1-d array data type\", \"\\n\", num_arr.dtype, \"\\n\")\n",
    "print(\"2-d array data type\", \"\\n\", num_arr_2d.dtype, \"\\n\")\n",
    "print(\"3-d array data type\", \"\\n\", num_arr_3d.dtype, \"\\n\")\n",
    "\n",
    "print(\"_____________________________ Size __________________________________\", '\\n')\n",
    "print(\"1-d array size\", \"\\n\", num_arr.size, \"\\n\")\n",
    "print(\"2-d array size\", \"\\n\", num_arr_2d.size, \"\\n\")\n",
    "print(\"3-d array size\", \"\\n\", num_arr_3d.size, \"\\n\")\n",
    "\n",
    "print(\"_____________________________ Type __________________________________\", '\\n')\n",
    "print(\"1-d array type\", \"\\n\", type(num_arr), \"\\n\")\n",
    "print(\"2-d array type\", \"\\n\", type(num_arr_2d), \"\\n\")\n",
    "print(\"3-d array type\", \"\\n\", type(num_arr_3d), \"\\n\")"
   ]
  },
  {
   "cell_type": "code",
   "execution_count": 7,
   "metadata": {},
   "outputs": [],
   "source": [
    "# Attributes of 2-dimensional array"
   ]
  },
  {
   "cell_type": "code",
   "execution_count": 8,
   "metadata": {},
   "outputs": [],
   "source": [
    "# Attributes of 3-dimensional array"
   ]
  },
  {
   "cell_type": "code",
   "execution_count": 57,
   "metadata": {},
   "outputs": [
    {
     "name": "stdout",
     "output_type": "stream",
     "text": [
      "   0  1  2  3   4\n",
      "0  1  2  3  4   5\n",
      "1  6  7  8  9  10\n"
     ]
    }
   ],
   "source": [
    "# Import pandas and create a DataFrame out of one of the arrays you've created\n",
    "import pandas as pd \n",
    " \n",
    "data_frame = pd.DataFrame(num_arr_2d)\n",
    "print(data_frame)"
   ]
  },
  {
   "cell_type": "code",
   "execution_count": 60,
   "metadata": {},
   "outputs": [
    {
     "name": "stdout",
     "output_type": "stream",
     "text": [
      "[[1. 1.]\n",
      " [1. 1.]\n",
      " [1. 1.]\n",
      " [1. 1.]\n",
      " [1. 1.]\n",
      " [1. 1.]\n",
      " [1. 1.]\n",
      " [1. 1.]\n",
      " [1. 1.]\n",
      " [1. 1.]]\n"
     ]
    }
   ],
   "source": [
    "# Create an array of shape (10, 2) with only ones\n",
    "ones_arr = np.ones((10, 2))\n",
    "print(ones_arr)"
   ]
  },
  {
   "cell_type": "code",
   "execution_count": 64,
   "metadata": {},
   "outputs": [
    {
     "name": "stdout",
     "output_type": "stream",
     "text": [
      "[[[[0. 0.]\n",
      "   [0. 0.]\n",
      "   [0. 0.]]\n",
      "\n",
      "  [[0. 0.]\n",
      "   [0. 0.]\n",
      "   [0. 0.]]]\n",
      "\n",
      "\n",
      " [[[0. 0.]\n",
      "   [0. 0.]\n",
      "   [0. 0.]]\n",
      "\n",
      "  [[0. 0.]\n",
      "   [0. 0.]\n",
      "   [0. 0.]]]]\n"
     ]
    }
   ],
   "source": [
    "# Create an array of shape (7, 2, 3) of only zeros\n",
    "zeros_arr = np.zeros((2, 2, 3, 2))\n",
    "print(zeros_arr)"
   ]
  },
  {
   "cell_type": "code",
   "execution_count": 65,
   "metadata": {},
   "outputs": [
    {
     "name": "stdout",
     "output_type": "stream",
     "text": [
      "[ 0  3  6  9 12 15 18 21 24 27 30 33 36 39 42 45 48 51 54 57 60 63 66 69\n",
      " 72 75 78 81 84 87 90 93 96 99]\n"
     ]
    }
   ],
   "source": [
    "# Create an array within a range of 0 and 100 with step 3\n",
    "range_arr = np.arange(0, 100, 3)\n",
    "print(range_arr)\n"
   ]
  },
  {
   "cell_type": "code",
   "execution_count": 66,
   "metadata": {},
   "outputs": [
    {
     "name": "stdout",
     "output_type": "stream",
     "text": [
      "[[0 4]\n",
      " [5 6]\n",
      " [3 2]\n",
      " [7 4]\n",
      " [2 9]\n",
      " [5 6]\n",
      " [4 3]]\n"
     ]
    }
   ],
   "source": [
    "# Create a random array with numbers between 0 and 10 of size (7, 2)\n",
    "random_arr = np.random.randint(10, size=(7, 2))\n",
    "print(random_arr)"
   ]
  },
  {
   "cell_type": "code",
   "execution_count": 71,
   "metadata": {},
   "outputs": [
    {
     "name": "stdout",
     "output_type": "stream",
     "text": [
      "[[0.10534108 0.16026196 0.84068848 0.82808289 0.63230526]\n",
      " [0.5104438  0.87317576 0.39013352 0.77999197 0.02654409]\n",
      " [0.31951884 0.59019346 0.77370361 0.16033374 0.52516082]]\n"
     ]
    }
   ],
   "source": [
    "# Create a random array of floats between 0 & 1 of shape (3, 5)\n",
    "random_floar_arr = np.random.random((3,5))\n",
    "print(random_floar_arr)"
   ]
  },
  {
   "cell_type": "code",
   "execution_count": 121,
   "metadata": {},
   "outputs": [
    {
     "name": "stdout",
     "output_type": "stream",
     "text": [
      "[[51 92 14 71 60 20]\n",
      " [82 86 74 74 87 99]\n",
      " [23  2 21 52  1 87]\n",
      " [29 37  1 63 59 20]]\n"
     ]
    }
   ],
   "source": [
    "# Set the random seed to 42\n",
    "np.random.seed(42)\n",
    "\n",
    "# Create a random array of numbers between 0 & 10 of size (4, 6)\n",
    "random_arr2 = np.random.randint(low=0,high=100, size=(4, 6))\n",
    "print(random_arr2)"
   ]
  },
  {
   "attachments": {},
   "cell_type": "markdown",
   "metadata": {},
   "source": [
    "Run the cell above again, what happens?\n",
    "\n",
    "Are the numbers in the array different or the same? Why do think this is?"
   ]
  },
  {
   "cell_type": "code",
   "execution_count": 125,
   "metadata": {},
   "outputs": [
    {
     "name": "stdout",
     "output_type": "stream",
     "text": [
      "[[5 7 9 7 9 8 2]\n",
      " [1 7 7 8 5 3 8]\n",
      " [6 3 1 3 5 3 1]]\n",
      "Unique element [1 2 3 5 6 7 8 9]\n"
     ]
    }
   ],
   "source": [
    "# Create an array of random numbers between 1 & 10 of size (3, 7) and save it to a variable\n",
    "random_element_arr = np.random.randint(low = 1 , high = 10, size=(3, 7))\n",
    "print(random_element_arr)\n",
    "\n",
    "# Find the unique numbers in the array you just created\n",
    "unique_element = np.unique(random_element_arr)\n",
    "print(\"Unique element\", unique_element)"
   ]
  },
  {
   "cell_type": "code",
   "execution_count": 126,
   "metadata": {},
   "outputs": [
    {
     "name": "stdout",
     "output_type": "stream",
     "text": [
      "1\n"
     ]
    }
   ],
   "source": [
    "# Find the 0'th index of the latest array you created\n",
    "print(unique_element[0])"
   ]
  },
  {
   "cell_type": "code",
   "execution_count": 132,
   "metadata": {},
   "outputs": [
    {
     "name": "stdout",
     "output_type": "stream",
     "text": [
      "[[5 7 9 7 9 8 2]\n",
      " [1 7 7 8 5 3 8]]\n"
     ]
    }
   ],
   "source": [
    "# Get the first 2 rows of latest array you created\n",
    "print(random_element_arr[:2])"
   ]
  },
  {
   "cell_type": "code",
   "execution_count": 133,
   "metadata": {},
   "outputs": [
    {
     "name": "stdout",
     "output_type": "stream",
     "text": [
      "[[5 7]\n",
      " [1 7]]\n"
     ]
    }
   ],
   "source": [
    "# Get the first 2 values of the first 2 rows of the latest array\n",
    "print(random_element_arr[:2, :2])"
   ]
  },
  {
   "cell_type": "code",
   "execution_count": 148,
   "metadata": {},
   "outputs": [
    {
     "name": "stdout",
     "output_type": "stream",
     "text": [
      "[[8 0 7 6 1]\n",
      " [7 0 8 8 1]\n",
      " [6 9 2 6 9]]\n",
      "[[8 3 0 1 0]\n",
      " [4 4 6 8 8]\n",
      " [2 2 2 3 7]]\n"
     ]
    }
   ],
   "source": [
    "# Create a random array of numbers between 0 & 10 and an array of ones both of size (3, 5), save them both to variables\n",
    "random_arr_one = np.random.randint(low  = 0, high = 10, size = (3, 5))\n",
    "print(random_arr_one)\n",
    "\n",
    "random_arr_two = np.random.randint(low=0, high=10, size=(3, 5))\n",
    "print(random_arr_two)"
   ]
  },
  {
   "cell_type": "code",
   "execution_count": 150,
   "metadata": {},
   "outputs": [
    {
     "name": "stdout",
     "output_type": "stream",
     "text": [
      "[[16  3  7  7  1]\n",
      " [11  4 14 16  9]\n",
      " [ 8 11  4  9 16]]\n"
     ]
    }
   ],
   "source": [
    "# Add the two arrays together\n",
    "sum_of_two_arr = np.add(random_arr_one, random_arr_two)\n",
    "print(sum_of_two_arr)"
   ]
  },
  {
   "cell_type": "code",
   "execution_count": 151,
   "metadata": {},
   "outputs": [
    {
     "name": "stdout",
     "output_type": "stream",
     "text": [
      "[[1. 1. 1. 1. 1.]\n",
      " [1. 1. 1. 1. 1.]\n",
      " [1. 1. 1. 1. 1.]]\n"
     ]
    }
   ],
   "source": [
    "# Create another array of ones of shape (5, 3)\n",
    "ones_shpae_arr = np.ones((3, 5))\n",
    "print(ones_shpae_arr)"
   ]
  },
  {
   "cell_type": "code",
   "execution_count": 152,
   "metadata": {},
   "outputs": [
    {
     "name": "stdout",
     "output_type": "stream",
     "text": [
      "[[17.  4.  8.  8.  2.]\n",
      " [12.  5. 15. 17. 10.]\n",
      " [ 9. 12.  5. 10. 17.]]\n"
     ]
    }
   ],
   "source": [
    "# Try add the array of ones and the other most recent array together\n",
    "add_most_recent_arr = np.add(ones_shpae_arr, sum_of_two_arr)\n",
    "print(add_most_recent_arr)"
   ]
  },
  {
   "attachments": {},
   "cell_type": "markdown",
   "metadata": {},
   "source": [
    "When you try the last cell, it produces an error. Why do think this is?\n",
    "\n",
    "How would you fix it?"
   ]
  },
  {
   "cell_type": "code",
   "execution_count": 154,
   "metadata": {},
   "outputs": [
    {
     "name": "stdout",
     "output_type": "stream",
     "text": [
      "[[1. 1. 1. 1. 1.]\n",
      " [1. 1. 1. 1. 1.]\n",
      " [1. 1. 1. 1. 1.]]\n"
     ]
    }
   ],
   "source": [
    "# Create another array of ones of shape (3, 5)\n",
    "one_shape_second_arr = np.ones((3, 5))\n",
    "print(one_shape_second_arr)"
   ]
  },
  {
   "cell_type": "code",
   "execution_count": 155,
   "metadata": {},
   "outputs": [
    {
     "name": "stdout",
     "output_type": "stream",
     "text": [
      "[[16.  3.  7.  7.  1.]\n",
      " [11.  4. 14. 16.  9.]\n",
      " [ 8. 11.  4.  9. 16.]]\n"
     ]
    }
   ],
   "source": [
    "# Subtract the new array of ones from the other most recent array\n",
    "subtract_of_new_arr = np.subtract(add_most_recent_arr, one_shape_second_arr)\n",
    "print(subtract_of_new_arr)"
   ]
  },
  {
   "cell_type": "code",
   "execution_count": 156,
   "metadata": {},
   "outputs": [
    {
     "name": "stdout",
     "output_type": "stream",
     "text": [
      "[[16.  3.  7.  7.  1.]\n",
      " [11.  4. 14. 16.  9.]\n",
      " [ 8. 11.  4.  9. 16.]]\n"
     ]
    }
   ],
   "source": [
    "# Multiply the ones array with the latest array\n",
    "mul_of_latest_arr = np.multiply(one_shape_second_arr, subtract_of_new_arr)\n",
    "print(mul_of_latest_arr)"
   ]
  },
  {
   "cell_type": "code",
   "execution_count": 157,
   "metadata": {},
   "outputs": [
    {
     "data": {
      "text/plain": [
       "array([[256.,   9.,  49.,  49.,   1.],\n",
       "       [121.,  16., 196., 256.,  81.],\n",
       "       [ 64., 121.,  16.,  81., 256.]])"
      ]
     },
     "execution_count": 157,
     "metadata": {},
     "output_type": "execute_result"
    }
   ],
   "source": [
    "# Take the latest array to the power of 2 using '**'\n",
    "power_of_two = mul_of_latest_arr ** 2\n",
    "power_of_two"
   ]
  },
  {
   "cell_type": "code",
   "execution_count": 158,
   "metadata": {},
   "outputs": [
    {
     "data": {
      "text/plain": [
       "array([[256.,   9.,  49.,  49.,   1.],\n",
       "       [121.,  16., 196., 256.,  81.],\n",
       "       [ 64., 121.,  16.,  81., 256.]])"
      ]
     },
     "execution_count": 158,
     "metadata": {},
     "output_type": "execute_result"
    }
   ],
   "source": [
    "# Do the same thing with np.square()\n",
    "power_of_arr = np.square(mul_of_latest_arr)\n",
    "power_of_arr\n"
   ]
  },
  {
   "cell_type": "code",
   "execution_count": 159,
   "metadata": {},
   "outputs": [
    {
     "data": {
      "text/plain": [
       "104.8"
      ]
     },
     "execution_count": 159,
     "metadata": {},
     "output_type": "execute_result"
    }
   ],
   "source": [
    "# Find the mean of the latest array using np.mean()\n",
    "mean_of_latest_arr = np.mean(power_of_arr)\n",
    "mean_of_latest_arr"
   ]
  },
  {
   "cell_type": "code",
   "execution_count": 160,
   "metadata": {},
   "outputs": [
    {
     "data": {
      "text/plain": [
       "256.0"
      ]
     },
     "execution_count": 160,
     "metadata": {},
     "output_type": "execute_result"
    }
   ],
   "source": [
    "# Find the maximum of the latest array using np.max()\n",
    "max_of_latest_arr = np.max(power_of_arr)\n",
    "max_of_latest_arr"
   ]
  },
  {
   "cell_type": "code",
   "execution_count": 161,
   "metadata": {},
   "outputs": [
    {
     "data": {
      "text/plain": [
       "1.0"
      ]
     },
     "execution_count": 161,
     "metadata": {},
     "output_type": "execute_result"
    }
   ],
   "source": [
    "# Find the minimum of the latest array using np.min()\n",
    "min_of_latest_arr = np.min(power_of_arr)\n",
    "min_of_latest_arr"
   ]
  },
  {
   "cell_type": "code",
   "execution_count": 162,
   "metadata": {},
   "outputs": [
    {
     "data": {
      "text/plain": [
       "90.24943213117743"
      ]
     },
     "execution_count": 162,
     "metadata": {},
     "output_type": "execute_result"
    }
   ],
   "source": [
    "# Find the standard deviation of the latest array\n",
    "std_deviation = np.std(power_of_arr)\n",
    "std_deviation"
   ]
  },
  {
   "cell_type": "code",
   "execution_count": 163,
   "metadata": {},
   "outputs": [
    {
     "data": {
      "text/plain": [
       "8144.96"
      ]
     },
     "execution_count": 163,
     "metadata": {},
     "output_type": "execute_result"
    }
   ],
   "source": [
    "# Find the variance of the latest array\n",
    "variance_of_arr = np.var(power_of_arr)\n",
    "variance_of_arr\n"
   ]
  },
  {
   "cell_type": "code",
   "execution_count": 164,
   "metadata": {},
   "outputs": [
    {
     "data": {
      "text/plain": [
       "array([[[256.],\n",
       "        [  9.],\n",
       "        [ 49.],\n",
       "        [ 49.],\n",
       "        [  1.]],\n",
       "\n",
       "       [[121.],\n",
       "        [ 16.],\n",
       "        [196.],\n",
       "        [256.],\n",
       "        [ 81.]],\n",
       "\n",
       "       [[ 64.],\n",
       "        [121.],\n",
       "        [ 16.],\n",
       "        [ 81.],\n",
       "        [256.]]])"
      ]
     },
     "execution_count": 164,
     "metadata": {},
     "output_type": "execute_result"
    }
   ],
   "source": [
    "# Reshape the latest array to (3, 5, 1)\n",
    "newshape_arr = np.reshape(power_of_arr, (3, 5, 1))\n",
    "newshape_arr"
   ]
  },
  {
   "cell_type": "code",
   "execution_count": 165,
   "metadata": {},
   "outputs": [
    {
     "data": {
      "text/plain": [
       "array([[[256., 121.,  64.],\n",
       "        [  9.,  16., 121.],\n",
       "        [ 49., 196.,  16.],\n",
       "        [ 49., 256.,  81.],\n",
       "        [  1.,  81., 256.]]])"
      ]
     },
     "execution_count": 165,
     "metadata": {},
     "output_type": "execute_result"
    }
   ],
   "source": [
    "# Transpose the latest array\n",
    "transpose_of_newshape = newshape_arr.T\n",
    "transpose_of_newshape\n"
   ]
  },
  {
   "attachments": {},
   "cell_type": "markdown",
   "metadata": {},
   "source": [
    "What does the transpose do?"
   ]
  },
  {
   "cell_type": "code",
   "execution_count": 170,
   "metadata": {},
   "outputs": [
    {
     "data": {
      "text/plain": [
       "(array([[0.76855401, 0.04360377, 0.99455051],\n",
       "        [0.46994451, 0.27956034, 0.88349402],\n",
       "        [0.74771877, 0.95307185, 0.3307503 ]]),\n",
       " array([[0.55276497, 0.57229247],\n",
       "        [0.98033158, 0.07534626],\n",
       "        [0.30569702, 0.19091103]]))"
      ]
     },
     "execution_count": 170,
     "metadata": {},
     "output_type": "execute_result"
    }
   ],
   "source": [
    "# Create two arrays of random integers between 0 to 10 one of size (3, 3) the other of size (3, 2)\n",
    "random_int_arr = np.random.random(size=(3, 3))\n",
    "\n",
    "random_int_arr_two = np.random.random(size=(3, 2))\n",
    "random_int_arr , random_int_arr_two"
   ]
  },
  {
   "cell_type": "code",
   "execution_count": 172,
   "metadata": {},
   "outputs": [
    {
     "data": {
      "text/plain": [
       "(array([[0.77160702, 0.63299372],\n",
       "        [0.80391219, 0.45867829],\n",
       "        [1.44874856, 0.5628681 ]]),\n",
       " (3, 2))"
      ]
     },
     "execution_count": 172,
     "metadata": {},
     "output_type": "execute_result"
    }
   ],
   "source": [
    "# Perform a dot product on the two newest arrays you created\n",
    "dot_product = np.dot(random_int_arr, random_int_arr_two)\n",
    "dot_product , dot_product.shape"
   ]
  },
  {
   "cell_type": "code",
   "execution_count": 174,
   "metadata": {},
   "outputs": [
    {
     "data": {
      "text/plain": [
       "(array([[0.26847486, 0.48527987, 0.37268687],\n",
       "        [0.39469147, 0.84421314, 0.93001683],\n",
       "        [0.07041613, 0.20891872, 0.67114352],\n",
       "        [0.35864678, 0.25416365, 0.29529059]]),\n",
       " array([[0.32255076, 0.84866979, 0.13662133],\n",
       "        [0.708911  , 0.55281998, 0.29651014],\n",
       "        [0.41978086, 0.25620694, 0.61151371],\n",
       "        [0.08159418, 0.00518486, 0.62789441]]))"
      ]
     },
     "execution_count": 174,
     "metadata": {},
     "output_type": "execute_result"
    }
   ],
   "source": [
    "# Create two arrays of random integers between 0 to 10 both of size (4, 3)\n",
    "random_int_array = np.random.random(size=(4, 3))\n",
    "\n",
    "random_int_array_two = np.random.random(size=(4, 3))\n",
    "random_int_array , random_int_array_two"
   ]
  },
  {
   "cell_type": "code",
   "execution_count": 176,
   "metadata": {},
   "outputs": [
    {
     "data": {
      "text/plain": [
       "array([[0.54935612, 0.56910262, 0.46493581, 0.2584301 ],\n",
       "       [0.97082637, 1.02225844, 0.95069524, 0.62053403],\n",
       "       [0.2917083 , 0.36441407, 0.49349923, 0.42823603],\n",
       "       [0.3717258 , 0.48231204, 0.39624579, 0.21599261]])"
      ]
     },
     "execution_count": 176,
     "metadata": {},
     "output_type": "execute_result"
    }
   ],
   "source": [
    "# Perform a dot product on the two newest arrays you created\n",
    "dot_product_two = np.dot(random_int_array, random_int_array_two.T)\n",
    "dot_product_two"
   ]
  },
  {
   "attachments": {},
   "cell_type": "markdown",
   "metadata": {},
   "source": [
    "It doesn't work. How would you fix it?"
   ]
  },
  {
   "cell_type": "code",
   "execution_count": 40,
   "metadata": {},
   "outputs": [],
   "source": [
    "# Take the latest two arrays, perform a transpose on one of them and then perform a dot product on them both\n"
   ]
  },
  {
   "attachments": {},
   "cell_type": "markdown",
   "metadata": {},
   "source": [
    "Notice how performing a transpose allows the dot product to happen.\n",
    "\n",
    "Why is this?\n",
    "\n",
    "Checking out the documentation on [`np.dot()`](https://docs.scipy.org/doc/numpy/reference/generated/numpy.dot.html) may help, as well as reading [Math is Fun's guide on the dot product](https://www.mathsisfun.com/algebra/vectors-dot-product.html).\n",
    "\n",
    "Let's now compare arrays."
   ]
  },
  {
   "cell_type": "code",
   "execution_count": 178,
   "metadata": {},
   "outputs": [
    {
     "data": {
      "text/plain": [
       "(array([[3, 0, 7],\n",
       "        [2, 6, 1],\n",
       "        [1, 6, 5],\n",
       "        [2, 8, 9]]),\n",
       " array([[5, 9, 9],\n",
       "        [5, 0, 3],\n",
       "        [9, 5, 5],\n",
       "        [4, 0, 7]]))"
      ]
     },
     "execution_count": 178,
     "metadata": {},
     "output_type": "execute_result"
    }
   ],
   "source": [
    "# Create two arrays of random integers between 0 & 10 of the same shape and save them to variables\n",
    "random_int_array = np.random.randint(10, size=(4, 3))\n",
    "\n",
    "random_int_array_two = np.random.randint(10, size=(4, 3))\n",
    "random_int_array , random_int_array_two"
   ]
  },
  {
   "cell_type": "code",
   "execution_count": 179,
   "metadata": {},
   "outputs": [
    {
     "data": {
      "text/plain": [
       "array([[False, False, False],\n",
       "       [False,  True, False],\n",
       "       [False,  True, False],\n",
       "       [False,  True,  True]])"
      ]
     },
     "execution_count": 179,
     "metadata": {},
     "output_type": "execute_result"
    }
   ],
   "source": [
    "# Compare the two arrays with '>'\n",
    "random_int_array > random_int_array_two"
   ]
  },
  {
   "attachments": {},
   "cell_type": "markdown",
   "metadata": {},
   "source": [
    "What happens when you compare the arrays with `>`?"
   ]
  },
  {
   "cell_type": "code",
   "execution_count": 181,
   "metadata": {},
   "outputs": [
    {
     "data": {
      "text/plain": [
       "array([6, 6, 5, 8, 9])"
      ]
     },
     "execution_count": 181,
     "metadata": {},
     "output_type": "execute_result"
    }
   ],
   "source": [
    "# Compare the two arrays with '>='\n",
    "random_int_array >= random_int_array_two"
   ]
  },
  {
   "cell_type": "code",
   "execution_count": 186,
   "metadata": {},
   "outputs": [
    {
     "data": {
      "text/plain": [
       "array([8, 9])"
      ]
     },
     "execution_count": 186,
     "metadata": {},
     "output_type": "execute_result"
    }
   ],
   "source": [
    "# Find which elements of the first array are greater than 7\n",
    "# element_gt_7 = np.argwhere(random_int_array > 7)\n",
    "# element_gt_7\n",
    "random_int_array[random_int_array > 7]"
   ]
  },
  {
   "cell_type": "code",
   "execution_count": 187,
   "metadata": {},
   "outputs": [
    {
     "data": {
      "text/plain": [
       "array([5])"
      ]
     },
     "execution_count": 187,
     "metadata": {},
     "output_type": "execute_result"
    }
   ],
   "source": [
    "# Which parts of each array are equal? (try using '==')\n",
    "random_int_array[random_int_array == random_int_array_two]\n"
   ]
  },
  {
   "cell_type": "code",
   "execution_count": 199,
   "metadata": {},
   "outputs": [
    {
     "data": {
      "text/plain": [
       "array([[5, 9, 9],\n",
       "       [0, 3, 5],\n",
       "       [5, 5, 9],\n",
       "       [0, 4, 7]])"
      ]
     },
     "execution_count": 199,
     "metadata": {},
     "output_type": "execute_result"
    }
   ],
   "source": [
    "# Sort one of the arrays you just created in ascending order\n",
    "random_int_array_two.sort()\n",
    "random_int_array_two"
   ]
  },
  {
   "cell_type": "code",
   "execution_count": 198,
   "metadata": {},
   "outputs": [],
   "source": [
    "# Sort the indexes of one of the arrays you just created\n",
    "# np.argsort(random_int_array_two)"
   ]
  },
  {
   "cell_type": "code",
   "execution_count": 205,
   "metadata": {},
   "outputs": [
    {
     "data": {
      "text/plain": [
       "(1,\n",
       " array([0.98033158, 0.07534626]),\n",
       " array([[0.55276497, 0.57229247],\n",
       "        [0.98033158, 0.07534626],\n",
       "        [0.30569702, 0.19091103]]))"
      ]
     },
     "execution_count": 205,
     "metadata": {},
     "output_type": "execute_result"
    }
   ],
   "source": [
    "# Find the index with the maximum value in one of the arrays you've created\n",
    "max_index = np.argmax(random_int_array_two)\n",
    "max_index,random_int_arr_two[max_index],random_int_arr_two"
   ]
  },
  {
   "cell_type": "code",
   "execution_count": 207,
   "metadata": {},
   "outputs": [
    {
     "data": {
      "text/plain": [
       "3"
      ]
     },
     "execution_count": 207,
     "metadata": {},
     "output_type": "execute_result"
    }
   ],
   "source": [
    "# Find the index with the minimum value in one of the arrays you've created\n",
    "min_index = np.argmin(random_int_array_two)\n",
    "min_index\n"
   ]
  },
  {
   "cell_type": "code",
   "execution_count": 208,
   "metadata": {},
   "outputs": [
    {
     "data": {
      "text/plain": [
       "array([1, 0, 0])"
      ]
     },
     "execution_count": 208,
     "metadata": {},
     "output_type": "execute_result"
    }
   ],
   "source": [
    "# Find the indexes with the maximum values down the 1st axis (axis=1) of one of the arrays you created\n",
    "np.argmax(random_int_arr_two, axis=1)"
   ]
  },
  {
   "cell_type": "code",
   "execution_count": 209,
   "metadata": {},
   "outputs": [
    {
     "data": {
      "text/plain": [
       "array([1, 0])"
      ]
     },
     "execution_count": 209,
     "metadata": {},
     "output_type": "execute_result"
    }
   ],
   "source": [
    "# Find the indexes with the minimum values across the 0th axis (axis=0) of one of the arrays you created\n",
    "np.argmax(random_int_arr_two, axis=0)"
   ]
  },
  {
   "cell_type": "code",
   "execution_count": 212,
   "metadata": {},
   "outputs": [
    {
     "data": {
      "text/plain": [
       "array([0.54063512, 0.6374299 , 0.72609133, 0.97585208, 0.51630035])"
      ]
     },
     "execution_count": 212,
     "metadata": {},
     "output_type": "execute_result"
    }
   ],
   "source": [
    "# Create an array of normally distributed random numbers\n",
    "normal_array  = np.random.random(size=5)\n",
    "normal_array"
   ]
  },
  {
   "cell_type": "code",
   "execution_count": 213,
   "metadata": {},
   "outputs": [
    {
     "data": {
      "text/plain": [
       "array([  1.,  12.,  23.,  34.,  45.,  56.,  67.,  78.,  89., 100.])"
      ]
     },
     "execution_count": 213,
     "metadata": {},
     "output_type": "execute_result"
    }
   ],
   "source": [
    "# Create an array with 10 evenly spaced numbers between 1 and 100\n",
    "np.linspace(1, 100, 10)"
   ]
  },
  {
   "attachments": {},
   "cell_type": "markdown",
   "metadata": {},
   "source": [
    "## Extensions\n",
    "\n",
    "For more exercises, check out the [NumPy quickstart tutorial](https://numpy.org/doc/stable/user/quickstart.html). A good practice would be to read through it and for the parts you find interesting, add them into the end of this notebook.\n",
    "\n",
    "Pay particular attention to the section on broadcasting. And most importantly, get hands-on with the code as much as possible. If in dobut, run the code, see what it does.\n",
    "\n",
    "The next place you could go is the [Stack Overflow page for the top questions and answers for NumPy](https://stackoverflow.com/questions/tagged/numpy?sort=MostVotes&edited=true). Often, you'll find some of the most common and useful NumPy functions here. Don't forget to play around with the filters! You'll likely find something helpful here.\n",
    "\n",
    "Finally, as always, remember, the best way to learn something new is to try it. And try it relentlessly. If you get interested in some kind of NumPy function, asking yourself, \"I wonder if NumPy could do that?\", go and find out."
   ]
  }
 ],
 "metadata": {
  "kernelspec": {
   "display_name": "Python 3",
   "language": "python",
   "name": "python3"
  },
  "language_info": {
   "codemirror_mode": {
    "name": "ipython",
    "version": 3
   },
   "file_extension": ".py",
   "mimetype": "text/x-python",
   "name": "python",
   "nbconvert_exporter": "python",
   "pygments_lexer": "ipython3",
   "version": "3.8.10"
  }
 },
 "nbformat": 4,
 "nbformat_minor": 2
}
